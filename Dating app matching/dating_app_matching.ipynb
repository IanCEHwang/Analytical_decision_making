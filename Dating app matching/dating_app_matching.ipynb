{
 "cells": [
  {
   "cell_type": "markdown",
   "id": "dd9a4908",
   "metadata": {},
   "source": [
    "### Exercise 1: Operations Excellence"
   ]
  },
  {
   "cell_type": "code",
   "execution_count": 206,
   "id": "e5290fa0",
   "metadata": {},
   "outputs": [],
   "source": [
    "import cvxpy as cvx\n",
    "import pandas as pd\n",
    "import numpy as np"
   ]
  },
  {
   "cell_type": "code",
   "execution_count": 2,
   "id": "fcc27227",
   "metadata": {},
   "outputs": [],
   "source": [
    "# time of production per unit\n",
    "# plant A\n",
    "standard_a = {\"grind\" : 4 , \"polish\" :2}\n",
    "deluxe_a = {\"grind\" : 2 , \"polish\" :5}\n",
    "\n",
    "# plant B\n",
    "standard_b = {\"grind\" : 5 , \"polish\" : 5}\n",
    "deluxe_b = {\"grind\" : 3 , \"polish\" : 6}\n",
    "\n",
    "# weight per unit\n",
    "raw_per_unit = 4\n",
    "\n",
    "# weight of material\n",
    "material_available = 120\n",
    "\n",
    "material_A = 75\n",
    "material_B = 45"
   ]
  },
  {
   "cell_type": "markdown",
   "id": "b6b363b9",
   "metadata": {},
   "source": [
    "#### 1. Write the optimization models for each plant, i.e., make sure to detail the decision variables, the objective function and the constraints."
   ]
  },
  {
   "cell_type": "code",
   "execution_count": 3,
   "id": "be85728c",
   "metadata": {},
   "outputs": [],
   "source": [
    "# Define decision variables\n",
    "x_standard_a = cvx.Variable(integer = True)\n",
    "x_deluxe_a = cvx.Variable(integer = True)\n",
    "x_standard_b = cvx.Variable(integer = True)\n",
    "x_deluxe_b = cvx.Variable(integer = True)\n",
    "\n",
    "# Define objective function\n",
    "objective = cvx.Maximize(10 * x_standard_a + 15 * x_deluxe_a + \n",
    "                         10 * x_standard_b + 15 * x_deluxe_b)\n",
    "\n",
    "# Define constraints\n",
    "constraints = [\n",
    "    x_standard_a >= 0,\n",
    "    x_standard_b >= 0,\n",
    "    x_deluxe_a >= 0,\n",
    "    x_deluxe_b >= 0,\n",
    "    4 * x_standard_a + 2 * x_deluxe_a <= 80, # grinding capacity constraint for plant A\n",
    "    2 * x_standard_a + 5 * x_deluxe_a <= 60, # polishing capacity constraint for plant A\n",
    "    5 * x_standard_b + 3 * x_deluxe_b <= 60, # grinding capacity constraint for plant B\n",
    "    5 * x_standard_b + 6 * x_deluxe_b <= 75, # polishing capacity constraint for plant B\n",
    "    4 * x_standard_a + 4 * x_deluxe_a <= 75, # raw material constraint\n",
    "    4 * x_standard_b + 4 * x_deluxe_b <= 45 # raw material constraint\n",
    "]"
   ]
  },
  {
   "cell_type": "markdown",
   "id": "3a00b184",
   "metadata": {},
   "source": [
    "#### 2. Provide the optimal solutions and profit levels for each factory. Give the values of the decision variables and the optimal objective function value."
   ]
  },
  {
   "cell_type": "code",
   "execution_count": 4,
   "id": "0d72e4a9",
   "metadata": {},
   "outputs": [],
   "source": [
    "# Define the problem and solve it\n",
    "problem = cvx.Problem(objective, constraints)"
   ]
  },
  {
   "cell_type": "code",
   "execution_count": 7,
   "id": "47bc55ce",
   "metadata": {},
   "outputs": [
    {
     "name": "stdout",
     "output_type": "stream",
     "text": [
      "Total profit : 385.0\n"
     ]
    }
   ],
   "source": [
    "print(f\"Total profit : {problem.solve()}\")"
   ]
  },
  {
   "cell_type": "code",
   "execution_count": 8,
   "id": "97a62e96",
   "metadata": {},
   "outputs": [
    {
     "name": "stdout",
     "output_type": "stream",
     "text": [
      "Plant A Standard : 10.0\n",
      "Plant A Deluxe : 8.0\n",
      "Plant B Standard : 0.0\n",
      "Plant B Deluxe : 11.0\n"
     ]
    }
   ],
   "source": [
    "print(f\"Plant A Standard : {x_standard_a.value}\")\n",
    "print(f\"Plant A Deluxe : {x_deluxe_a.value}\")\n",
    "print(f\"Plant B Standard : {x_standard_b.value}\")\n",
    "print(f\"Plant B Deluxe : {x_deluxe_b.value}\")"
   ]
  },
  {
   "cell_type": "markdown",
   "id": "5f838999",
   "metadata": {},
   "source": [
    "#### 3. Now, write the optimization model for the joint optimization of Plant A and B, and provide the optimal solution and profit levels."
   ]
  },
  {
   "cell_type": "code",
   "execution_count": 9,
   "id": "ba3a35df",
   "metadata": {},
   "outputs": [],
   "source": [
    "# Define decision variables\n",
    "x_standard_a = cvx.Variable(integer = True)\n",
    "x_deluxe_a = cvx.Variable(integer = True)\n",
    "x_standard_b = cvx.Variable(integer = True)\n",
    "x_deluxe_b = cvx.Variable(integer = True)\n",
    "\n",
    "# Define objective function\n",
    "objective = cvx.Maximize(10 * x_standard_a + 15 * x_deluxe_a + \n",
    "                         10 * x_standard_b + 15 * x_deluxe_b)\n",
    "\n",
    "# Define constraints\n",
    "constraints = [\n",
    "    x_standard_a >= 0,\n",
    "    x_standard_b >= 0,\n",
    "    x_deluxe_a >= 0,\n",
    "    x_deluxe_b >= 0,\n",
    "    4 * x_standard_a + 2 * x_deluxe_a <= 80, # grinding capacity constraint for plant A\n",
    "    2 * x_standard_a + 5 * x_deluxe_a <= 60, # polishing capacity constraint for plant A\n",
    "    5 * x_standard_b + 3 * x_deluxe_b <= 60, # grinding capacity constraint for plant B\n",
    "    5 * x_standard_b + 6 * x_deluxe_b <= 75, # polishing capacity constraint for plant B\n",
    "    4 * x_standard_a + 4 * x_deluxe_a + 4 * x_standard_b + 4 * x_deluxe_b <= 120 # raw material constraint\n",
    "]"
   ]
  },
  {
   "cell_type": "code",
   "execution_count": 10,
   "id": "21269fa6",
   "metadata": {},
   "outputs": [],
   "source": [
    "# Define the problem and solve it\n",
    "problem = cvx.Problem(objective, constraints)"
   ]
  },
  {
   "cell_type": "code",
   "execution_count": 11,
   "id": "76592e2f",
   "metadata": {},
   "outputs": [
    {
     "name": "stdout",
     "output_type": "stream",
     "text": [
      "Total profit : 400.0\n"
     ]
    }
   ],
   "source": [
    "print(f\"Total profit : {problem.solve()}\")"
   ]
  },
  {
   "cell_type": "code",
   "execution_count": 12,
   "id": "441c49d4",
   "metadata": {},
   "outputs": [
    {
     "name": "stdout",
     "output_type": "stream",
     "text": [
      "Plant A Standard : 10.0\n",
      "Plant A Deluxe : 8.0\n",
      "Plant B Standard : 0.0\n",
      "Plant B Deluxe : 12.0\n"
     ]
    }
   ],
   "source": [
    "print(f\"Plant A Standard : {x_standard_a.value}\")\n",
    "print(f\"Plant A Deluxe : {x_deluxe_a.value}\")\n",
    "print(f\"Plant B Standard : {x_standard_b.value}\")\n",
    "print(f\"Plant B Deluxe : {x_deluxe_b.value}\")"
   ]
  },
  {
   "cell_type": "markdown",
   "id": "626524e3",
   "metadata": {},
   "source": [
    "#### 4. Please comment on the results? How do they compare to the results obtained in Question 2."
   ]
  },
  {
   "cell_type": "markdown",
   "id": "cac4e843",
   "metadata": {},
   "source": [
    "Result from question3 is 15 dollar higher than that of question 2's answer. I think this is the consequence of better optimization, in the previous scenario, the model is not able to exhuast all the resources, however, this is no longer a problem later, therefore yielding higher revenue."
   ]
  },
  {
   "cell_type": "markdown",
   "id": "7b882417",
   "metadata": {},
   "source": [
    "#### 5. In one paragraph (no more than 300 words), detail the recommendations you would provide to the CEO of the company to improve the firm’s operations?"
   ]
  },
  {
   "cell_type": "markdown",
   "id": "99db86c4",
   "metadata": {},
   "source": [
    "I would recommend the CEO to arrange 10 unit of standard production and 8 unit of deluxe production in factory A; 12 unit of deluxe production in factory B. The rational behind this allocation is to maximize the revenue, with 400 dollar a month. Furthurmore, we can see now that the production of standard product in firm B is 0, to utilize all the resources on hand, I would suggest the CEO to order more materials, to make sure all machines are being used throughout the month."
   ]
  },
  {
   "cell_type": "markdown",
   "id": "5e6920bf",
   "metadata": {},
   "source": [
    "### Exercise 2: Hotel La Quinta Motor Inns (LQM)"
   ]
  },
  {
   "cell_type": "code",
   "execution_count": 110,
   "id": "047690c1",
   "metadata": {},
   "outputs": [
    {
     "name": "stderr",
     "output_type": "stream",
     "text": [
      "/Users/huangjien/Library/Python/3.9/lib/python/site-packages/openpyxl/worksheet/_reader.py:329: UserWarning: Unknown extension is not supported and will be removed\n",
      "  warn(msg)\n"
     ]
    },
    {
     "data": {
      "text/html": [
       "<div>\n",
       "<style scoped>\n",
       "    .dataframe tbody tr th:only-of-type {\n",
       "        vertical-align: middle;\n",
       "    }\n",
       "\n",
       "    .dataframe tbody tr th {\n",
       "        vertical-align: top;\n",
       "    }\n",
       "\n",
       "    .dataframe thead th {\n",
       "        text-align: right;\n",
       "    }\n",
       "</style>\n",
       "<table border=\"1\" class=\"dataframe\">\n",
       "  <thead>\n",
       "    <tr style=\"text-align: right;\">\n",
       "      <th></th>\n",
       "      <th>Location</th>\n",
       "      <th>Price</th>\n",
       "      <th>Price (normalized)</th>\n",
       "      <th>Square Root of Median Income (normalized)</th>\n",
       "      <th>College Students in Area (normalized)</th>\n",
       "      <th>State Population Per Inn (normalized)</th>\n",
       "    </tr>\n",
       "    <tr>\n",
       "      <th>Hotel</th>\n",
       "      <th></th>\n",
       "      <th></th>\n",
       "      <th></th>\n",
       "      <th></th>\n",
       "      <th></th>\n",
       "      <th></th>\n",
       "    </tr>\n",
       "  </thead>\n",
       "  <tbody>\n",
       "    <tr>\n",
       "      <th>1</th>\n",
       "      <td>Eureka, California</td>\n",
       "      <td>2925000</td>\n",
       "      <td>-0.301823</td>\n",
       "      <td>-0.812780</td>\n",
       "      <td>-0.536413</td>\n",
       "      <td>-0.995987</td>\n",
       "    </tr>\n",
       "    <tr>\n",
       "      <th>2</th>\n",
       "      <td>Fresno, California</td>\n",
       "      <td>10000000</td>\n",
       "      <td>1.699076</td>\n",
       "      <td>-0.408199</td>\n",
       "      <td>0.311669</td>\n",
       "      <td>-0.474279</td>\n",
       "    </tr>\n",
       "    <tr>\n",
       "      <th>3</th>\n",
       "      <td>Fresno, California</td>\n",
       "      <td>3750000</td>\n",
       "      <td>-0.068503</td>\n",
       "      <td>-0.408199</td>\n",
       "      <td>0.311669</td>\n",
       "      <td>-0.474279</td>\n",
       "    </tr>\n",
       "    <tr>\n",
       "      <th>4</th>\n",
       "      <td>Fresno, California</td>\n",
       "      <td>3500000</td>\n",
       "      <td>-0.139206</td>\n",
       "      <td>-0.408199</td>\n",
       "      <td>0.311669</td>\n",
       "      <td>-0.474279</td>\n",
       "    </tr>\n",
       "    <tr>\n",
       "      <th>5</th>\n",
       "      <td>Fresno, California</td>\n",
       "      <td>325000</td>\n",
       "      <td>-1.037136</td>\n",
       "      <td>-0.408199</td>\n",
       "      <td>0.311669</td>\n",
       "      <td>-0.474279</td>\n",
       "    </tr>\n",
       "  </tbody>\n",
       "</table>\n",
       "</div>"
      ],
      "text/plain": [
       "                 Location     Price  Price (normalized)  \\\n",
       "Hotel                                                     \n",
       "1      Eureka, California   2925000           -0.301823   \n",
       "2      Fresno, California  10000000            1.699076   \n",
       "3      Fresno, California   3750000           -0.068503   \n",
       "4      Fresno, California   3500000           -0.139206   \n",
       "5      Fresno, California    325000           -1.037136   \n",
       "\n",
       "       Square Root of Median Income (normalized)  \\\n",
       "Hotel                                              \n",
       "1                                      -0.812780   \n",
       "2                                      -0.408199   \n",
       "3                                      -0.408199   \n",
       "4                                      -0.408199   \n",
       "5                                      -0.408199   \n",
       "\n",
       "       College Students in Area (normalized)  \\\n",
       "Hotel                                          \n",
       "1                                  -0.536413   \n",
       "2                                   0.311669   \n",
       "3                                   0.311669   \n",
       "4                                   0.311669   \n",
       "5                                   0.311669   \n",
       "\n",
       "       State Population Per Inn (normalized)  \n",
       "Hotel                                         \n",
       "1                                  -0.995987  \n",
       "2                                  -0.474279  \n",
       "3                                  -0.474279  \n",
       "4                                  -0.474279  \n",
       "5                                  -0.474279  "
      ]
     },
     "execution_count": 110,
     "metadata": {},
     "output_type": "execute_result"
    }
   ],
   "source": [
    "# read excel file\n",
    "lqm = pd.read_excel(\"LQM.xlsx\" , header = 2 , index_col = 0)\n",
    "\n",
    "# check data\n",
    "lqm.head()"
   ]
  },
  {
   "cell_type": "markdown",
   "id": "ee3ecdfb",
   "metadata": {},
   "source": [
    "<center>𝑃𝑟𝑜𝑓𝑖𝑡𝑎𝑏𝑖𝑙𝑖𝑡𝑦 = 39.05 − (5.41 × 𝑆𝑡𝑎𝑡𝑒 𝑃𝑜𝑝𝑢𝑙𝑎𝑡𝑖𝑜𝑛 𝑝𝑒𝑟 𝐼𝑛𝑛) + (5.86 × 𝑃𝑟𝑖𝑐𝑒 𝑜𝑓 𝑡h𝑒 𝐼𝑛𝑛)\n",
    "− (3.09 × 𝑆𝑞𝑢𝑎𝑟𝑒 𝑅𝑜𝑜𝑡 𝑜𝑓 𝑡h𝑒 𝑀𝑒𝑑𝑖𝑎𝑛 𝐼𝑛𝑐𝑜𝑚𝑒 𝑖𝑛 𝑡h𝑒 𝑎𝑟𝑒𝑎) + (1.75 × 𝐶𝑜𝑙𝑙𝑒𝑔𝑒 𝑆𝑡𝑢𝑑𝑒𝑛𝑡𝑠 𝑖𝑛 𝑡h𝑒 𝐴𝑟𝑒𝑎)</center>"
   ]
  },
  {
   "cell_type": "markdown",
   "id": "ed542ae7",
   "metadata": {},
   "source": [
    "#### 1. According to the regression equation given above, which variable positively affect Profitability? Which variable negatively affect Profitability? Does this intuitively make sense? Why?"
   ]
  },
  {
   "cell_type": "markdown",
   "id": "b7db976b",
   "metadata": {},
   "source": [
    "- The variable that positively affects profitability is the Price of the Inn (per night), as the coefficient for this variable is 5.86, which means that as the price of the inn increases, profitability also increases.\n",
    "\n",
    "- The variables that negatively affect profitability are the State Population and the Square Root of the Median Income in the Area. The coefficients for these variables are -5.41 and -3.09, respectively, indicating that as these variables increase, profitability decreases.\n",
    "\n",
    "- Intuitively, this makes sense because a higher price for the inn per night means that the business is generating more revenue per customer, which can lead to higher profitability. On the other hand, a larger state population and higher median income in the area may indicate greater competition and higher costs for the business, which could reduce profitability."
   ]
  },
  {
   "cell_type": "markdown",
   "id": "ad8ab599",
   "metadata": {},
   "source": [
    "#### 2. Using this regression equation, LQM created a spreadsheet model to predict profitability. LQM collected data for several locations in California, which is provided in the excel spreadsheet on Canvas “LQM”. Using this spreadsheet, compute the profitability for each hotel. Which one has the highest profitability? Which one has the lowest profitability?\n"
   ]
  },
  {
   "cell_type": "code",
   "execution_count": 111,
   "id": "7e3ec55c",
   "metadata": {},
   "outputs": [],
   "source": [
    "def profit(row):\n",
    "    prof = 39.05 - (5.41 * row['State Population Per Inn (normalized)']) + (5.86 * row['Price'])-\\\n",
    "    (3.09 * row['Square Root of Median Income (normalized)']) + (1.75 * row['College Students in Area (normalized)'])\n",
    "    return prof"
   ]
  },
  {
   "cell_type": "code",
   "execution_count": 112,
   "id": "9e5894b6",
   "metadata": {},
   "outputs": [],
   "source": [
    "calculation = []\n",
    "for index , row in lqm.iterrows():\n",
    "    calculation.append([index , profit(row)])\n",
    "    \n",
    "cal_df = pd.DataFrame(calculation , columns = ['Hotel' , 'Profitability']).sort_values(by = 'Profitability' , ascending = False)\n",
    "lqm = lqm.merge(cal_df, left_index = True, right_on = 'Hotel').set_index('Hotel').sort_values(by = 'Profitability' , ascending = False)"
   ]
  },
  {
   "cell_type": "markdown",
   "id": "58290afb",
   "metadata": {},
   "source": [
    "Hotel 2 has the highest profitability whereas hotel 8 has the lowest profitability."
   ]
  },
  {
   "cell_type": "markdown",
   "id": "c2a0f3ce",
   "metadata": {},
   "source": [
    "#### 3. LQM has a budget of $10 million to spend on hotels. Suppose we use a “greedy” approach where we select the most profitable hotels until we ran out of budget. So we would start by the most profitable, and then if we had enough budget left, we would buy the hotel we predict to be the second most profitable, and so on."
   ]
  },
  {
   "cell_type": "markdown",
   "id": "28de7f40",
   "metadata": {},
   "source": [
    "a. Describe what we would do with this approach, i.e., which hotels would we purchase? "
   ]
  },
  {
   "cell_type": "code",
   "execution_count": 115,
   "id": "ae10b4c7",
   "metadata": {},
   "outputs": [],
   "source": [
    "budget = 10000000\n",
    "hotels_selected = []\n",
    "\n",
    "for index, row in cal_df.iterrows():\n",
    "    if budget > 0:\n",
    "        budget = budget - lqm.loc[row['Hotel'] , 'Price']\n",
    "        if budget >= 0:\n",
    "            hotels_selected.append(row['Hotel'])\n",
    "    else:\n",
    "        break"
   ]
  },
  {
   "cell_type": "code",
   "execution_count": 116,
   "id": "bfa7a126",
   "metadata": {},
   "outputs": [
    {
     "name": "stdout",
     "output_type": "stream",
     "text": [
      "We would buy hotel [2]\n"
     ]
    }
   ],
   "source": [
    "print(f\"We would buy hotel {[int(index) for index in hotels_selected]}\")"
   ]
  },
  {
   "cell_type": "markdown",
   "id": "41671372",
   "metadata": {},
   "source": [
    "b. What would our total predicted profitability be? (This is the sum of the predicted\n",
    "profitability of all hotels we purchase.)"
   ]
  },
  {
   "cell_type": "code",
   "execution_count": 117,
   "id": "ce218ed2",
   "metadata": {},
   "outputs": [
    {
     "name": "stdout",
     "output_type": "stream",
     "text": [
      "predicted profitability: 21975043.42260582\n"
     ]
    }
   ],
   "source": [
    "print(f\"predicted profitability: {sum(cal_df.loc[hotels_selected , 'Profitability'])}\")"
   ]
  },
  {
   "cell_type": "markdown",
   "id": "b00913d1",
   "metadata": {},
   "source": [
    "c. If we are trying to maximize our total predicted profitability, is this a good approach? How\n",
    "about if we were trying to maximize the average predicted profitability of the hotels we\n",
    "select? How about if we had a budget of \\\\$20 million instead of $10 million?"
   ]
  },
  {
   "cell_type": "markdown",
   "id": "984a5ca4",
   "metadata": {},
   "source": [
    "I would say this is the best approach in this case, as the price of the hotel that holds the highest profitability is equal to our budget, which means that we do not waste any cent and use it all on the most profitable property."
   ]
  },
  {
   "cell_type": "markdown",
   "id": "99da2a29",
   "metadata": {},
   "source": [
    "If we try to maximize the average predicted profitability we are still only going to buy Hotel 2."
   ]
  },
  {
   "cell_type": "code",
   "execution_count": 118,
   "id": "73f17778",
   "metadata": {},
   "outputs": [],
   "source": [
    "budget = 20000000\n",
    "hotels_selected = []\n",
    "\n",
    "for index, row in cal_df.iterrows():\n",
    "    if budget > 0:\n",
    "        budget = budget - lqm.loc[row['Hotel'] , 'Price']\n",
    "        if budget >= 0:\n",
    "            hotels_selected.append(row['Hotel'])\n",
    "    else:\n",
    "        break"
   ]
  },
  {
   "cell_type": "code",
   "execution_count": 119,
   "id": "506e2f23",
   "metadata": {},
   "outputs": [
    {
     "name": "stdout",
     "output_type": "stream",
     "text": [
      "We would buy hotel [2, 6] if we have 20 million instead of 10 million.\n"
     ]
    }
   ],
   "source": [
    "print(f\"We would buy hotel {[int(index) for index in hotels_selected]} if we have 20 million instead of 10 million.\")"
   ]
  },
  {
   "cell_type": "markdown",
   "id": "0ca725fb",
   "metadata": {},
   "source": [
    "#### 4. Now, build an optimization model to select hotels given the $10 million budget."
   ]
  },
  {
   "cell_type": "markdown",
   "id": "daa69086",
   "metadata": {},
   "source": [
    "a. Write out the optimization problem. Make sure to detail the decision variables, the objective function and the constraints."
   ]
  },
  {
   "cell_type": "code",
   "execution_count": 163,
   "id": "993cb5ce",
   "metadata": {
    "scrolled": true
   },
   "outputs": [
    {
     "name": "stdout",
     "output_type": "stream",
     "text": [
      "Selected hotels:\n",
      "- Hotel 1\n",
      "- Hotel 8\n",
      "- Hotel 10\n",
      "- Hotel 15\n",
      "- Hotel 11\n",
      "- Hotel 16\n",
      "- Hotel 5\n"
     ]
    }
   ],
   "source": [
    "# Define decision variables, represent if we are going to select the hotel or not\n",
    "x = cvx.Variable(len(lqm), boolean=True)\n",
    "\n",
    "# Define objective function\n",
    "objective = cvx.Maximize(lqm['Profitability'].values @ x)\n",
    "\n",
    "# Define constraints\n",
    "constraints = [lqm['Price'].values @ x <= 10000000]\n",
    "\n",
    "# Solve the problem\n",
    "problem = cvx.Problem(objective, constraints)\n",
    "problem.solve()\n",
    "\n",
    "# Print the results\n",
    "print(\"Selected hotels:\")\n",
    "selected = []\n",
    "for i in range(len(lqm)):\n",
    "    if x.value[i] == 1:\n",
    "        selected.append(lqm.index[i])\n",
    "        print(f\"- Hotel {lqm.index[i]}\")"
   ]
  },
  {
   "cell_type": "markdown",
   "id": "210e8c17",
   "metadata": {},
   "source": [
    "b. What is the optimal solution? Give the values of the decision variables and the optimal objective function value."
   ]
  },
  {
   "cell_type": "code",
   "execution_count": 137,
   "id": "759ba36e",
   "metadata": {},
   "outputs": [
    {
     "data": {
      "text/plain": [
       "[1, 8, 10, 15, 11, 16, 5]"
      ]
     },
     "execution_count": 137,
     "metadata": {},
     "output_type": "execute_result"
    }
   ],
   "source": [
    "selected"
   ]
  },
  {
   "cell_type": "code",
   "execution_count": 172,
   "id": "83c14ba2",
   "metadata": {},
   "outputs": [
    {
     "name": "stdout",
     "output_type": "stream",
     "text": [
      "optimal objective function value :58600287.64462958\n"
     ]
    }
   ],
   "source": [
    "print(f\"optimal objective function value :{problem.value}\")"
   ]
  },
  {
   "cell_type": "markdown",
   "id": "00d8c716",
   "metadata": {},
   "source": [
    "c. Does the optimal solution make sense intuitively? How does it compared to the greedy solution?"
   ]
  },
  {
   "cell_type": "markdown",
   "id": "a6a5a0b7",
   "metadata": {},
   "source": [
    "The optimal solution makes sense intuitively, as it selects the hotels that maximize profitability while staying within the budget constraint. Compared to the greedy solution, the optimal solution may be more reliable as it considers all possible combinations of hotels and selects the best ones based on profitability, rather than simply selecting the most profitable hotel until the budget is exhausted. "
   ]
  },
  {
   "cell_type": "markdown",
   "id": "c3ac054b",
   "metadata": {},
   "source": [
    "#### 5. LQM thinks that buying too many hotels in one city is probably not a good idea and would prefer to diversify across as many cities as possible. Add constraint(s) to your model to limit the number of hotels purchased in any city to at most 2."
   ]
  },
  {
   "cell_type": "markdown",
   "id": "c7ed0098",
   "metadata": {},
   "source": [
    "a. What are the constraints that you need to add to the model? Intuitively, do you expect the new optimal objective function value to be larger, smaller or the same as before?\n"
   ]
  },
  {
   "cell_type": "markdown",
   "id": "b4be9a99",
   "metadata": {},
   "source": [
    "To add the constraint that limits the number of hotels purchased in any city to at most 2, we can create a binary decision variable for each unique city and add a constraint that restricts the sum of these binary variables to be at most 2.\n",
    "\n",
    "Intuitively, adding this constraint will limit the number of hotels purchased in each city to at most 2, which means that the total number of hotels purchased will be spread out across more cities. This could potentially reduce the profitability of the optimal solution, since there may be some cities where purchasing more than 2 hotels would have been more profitable. "
   ]
  },
  {
   "cell_type": "markdown",
   "id": "0746f7cd",
   "metadata": {},
   "source": [
    "b. Write the new optimization model."
   ]
  },
  {
   "cell_type": "code",
   "execution_count": 164,
   "id": "8614f577",
   "metadata": {},
   "outputs": [],
   "source": [
    "# Define decision variables, represent if we are going to select the hotel or not\n",
    "x = cvx.Variable(len(lqm), boolean=True)\n",
    "\n",
    "# Define objective function\n",
    "objective = cvx.Maximize(lqm['Profitability'].values @ x)\n",
    "\n",
    "# Define constraints\n",
    "# budget constraint\n",
    "budget_constraints = [lqm['Price'].values @ x <= 10000000]\n",
    "\n",
    "# city budget\n",
    "city_constraints = []\n",
    "for loc in lqm['Location'].unique():\n",
    "    city_index = [ind - 1 for ind in lqm[lqm['Location'] == loc].index]\n",
    "    city_constraints.append(cvx.sum(x[city_index]) <= 2)\n",
    "\n",
    "# combine constraints\n",
    "constraints = budget_constraints + city_constraints"
   ]
  },
  {
   "cell_type": "markdown",
   "id": "61724d09",
   "metadata": {},
   "source": [
    "c. Solve the new model. Give the values of the decision variables and the optimal objective\n",
    "function value. How does this compare to the previous solution?"
   ]
  },
  {
   "cell_type": "code",
   "execution_count": 165,
   "id": "c77ecbc4",
   "metadata": {},
   "outputs": [
    {
     "name": "stdout",
     "output_type": "stream",
     "text": [
      "Selected hotels:\n",
      "- Hotel 4\n",
      "- Hotel 1\n",
      "- Hotel 12\n",
      "- Hotel 16\n",
      "- Hotel 5\n"
     ]
    }
   ],
   "source": [
    "# Solve the problem\n",
    "problem_2 = cvx.Problem(objective, constraints)\n",
    "problem_2.solve()\n",
    "\n",
    "# Print the results\n",
    "print(\"Selected hotels:\")\n",
    "selected = []\n",
    "for i in range(len(lqm)):\n",
    "    if x.value[i] == 1:\n",
    "        selected.append(lqm.index[i])\n",
    "        print(f\"- Hotel {lqm.index[i]}\")"
   ]
  },
  {
   "cell_type": "code",
   "execution_count": 171,
   "id": "ce1d0b7e",
   "metadata": {},
   "outputs": [
    {
     "name": "stdout",
     "output_type": "stream",
     "text": [
      "optimal objective function value :58600218.381050035\n"
     ]
    }
   ],
   "source": [
    "print(f\"optimal objective function value :{problem_2.value}\")"
   ]
  },
  {
   "cell_type": "markdown",
   "id": "3ead8f79",
   "metadata": {},
   "source": [
    "It's slighty smaller than the value of previous case."
   ]
  },
  {
   "cell_type": "markdown",
   "id": "e672dd2f",
   "metadata": {},
   "source": [
    "#### 6. In one paragraph (no more than 300 words), describe how you would present your results to LQM. Do you have any recommendations for them to improve the regression model? How about to improve the optimization model?"
   ]
  },
  {
   "cell_type": "markdown",
   "id": "0a8bc69a",
   "metadata": {},
   "source": [
    "I would suggest that LQM adopt the strategy of to have diversify across as many cities as possible, which is the last scenario. Although it is holding slighty smaller profitability than the previous one, but we all know that don't put all the eggs in one basket, I think the hedging effect worth much more than the difference in profitability between the two strategies."
   ]
  },
  {
   "cell_type": "markdown",
   "id": "21d5e68e",
   "metadata": {},
   "source": [
    "### Exercise 3: Matching for a Dating Platform"
   ]
  },
  {
   "cell_type": "code",
   "execution_count": 178,
   "id": "fa06d7e4",
   "metadata": {
    "scrolled": true
   },
   "outputs": [
    {
     "data": {
      "text/html": [
       "<div>\n",
       "<style scoped>\n",
       "    .dataframe tbody tr th:only-of-type {\n",
       "        vertical-align: middle;\n",
       "    }\n",
       "\n",
       "    .dataframe tbody tr th {\n",
       "        vertical-align: top;\n",
       "    }\n",
       "\n",
       "    .dataframe thead th {\n",
       "        text-align: right;\n",
       "    }\n",
       "</style>\n",
       "<table border=\"1\" class=\"dataframe\">\n",
       "  <thead>\n",
       "    <tr style=\"text-align: right;\">\n",
       "      <th></th>\n",
       "      <th>Gender</th>\n",
       "      <th>Sports</th>\n",
       "      <th>Theater</th>\n",
       "      <th>Religion</th>\n",
       "      <th>Outdoors</th>\n",
       "      <th>Eating Out</th>\n",
       "    </tr>\n",
       "  </thead>\n",
       "  <tbody>\n",
       "    <tr>\n",
       "      <th>Laura</th>\n",
       "      <td>Female</td>\n",
       "      <td>0</td>\n",
       "      <td>2</td>\n",
       "      <td>-1</td>\n",
       "      <td>0</td>\n",
       "      <td>2</td>\n",
       "    </tr>\n",
       "    <tr>\n",
       "      <th>Jennifer</th>\n",
       "      <td>Female</td>\n",
       "      <td>0</td>\n",
       "      <td>2</td>\n",
       "      <td>-1</td>\n",
       "      <td>-1</td>\n",
       "      <td>1</td>\n",
       "    </tr>\n",
       "    <tr>\n",
       "      <th>Emma</th>\n",
       "      <td>Female</td>\n",
       "      <td>2</td>\n",
       "      <td>-1</td>\n",
       "      <td>2</td>\n",
       "      <td>0</td>\n",
       "      <td>2</td>\n",
       "    </tr>\n",
       "    <tr>\n",
       "      <th>Olivia</th>\n",
       "      <td>Female</td>\n",
       "      <td>0</td>\n",
       "      <td>2</td>\n",
       "      <td>0</td>\n",
       "      <td>1</td>\n",
       "      <td>1</td>\n",
       "    </tr>\n",
       "    <tr>\n",
       "      <th>Martha</th>\n",
       "      <td>Female</td>\n",
       "      <td>0</td>\n",
       "      <td>-1</td>\n",
       "      <td>-1</td>\n",
       "      <td>0</td>\n",
       "      <td>0</td>\n",
       "    </tr>\n",
       "  </tbody>\n",
       "</table>\n",
       "</div>"
      ],
      "text/plain": [
       "          Gender  Sports  Theater  Religion  Outdoors  Eating Out\n",
       "Laura     Female       0        2        -1         0           2\n",
       "Jennifer  Female       0        2        -1        -1           1\n",
       "Emma      Female       2       -1         2         0           2\n",
       "Olivia    Female       0        2         0         1           1\n",
       "Martha    Female       0       -1        -1         0           0"
      ]
     },
     "execution_count": 178,
     "metadata": {},
     "output_type": "execute_result"
    }
   ],
   "source": [
    "# Import data\n",
    "dating = pd.read_csv('https://raw.githubusercontent.com/ormarketing/OD/master/OD.csv' , index_col = 0)\n",
    "\n",
    "#check data\n",
    "dating.head()"
   ]
  },
  {
   "cell_type": "markdown",
   "id": "ee39c8a5",
   "metadata": {},
   "source": [
    "#### 1. Assume all of the individuals in the data set would like to be matched to people of the opposite gender. What matches would you choose to maximize the aggregate match score?"
   ]
  },
  {
   "cell_type": "code",
   "execution_count": 221,
   "id": "133596c4",
   "metadata": {
    "scrolled": false
   },
   "outputs": [
    {
     "name": "stdout",
     "output_type": "stream",
     "text": [
      "The optimal match score is 48.00.\n",
      "Laura <3 Carl\n",
      "----------------\n",
      "Jennifer <3 Adam\n",
      "----------------\n",
      "Emma <3 Daniel\n",
      "----------------\n",
      "Olivia <3 Peter\n",
      "----------------\n",
      "Martha <3 Eric\n",
      "----------------\n",
      "Isabella <3 Ralph\n",
      "----------------\n",
      "Mary <3 James\n",
      "----------------\n",
      "Sophia <3 Robert\n",
      "----------------\n"
     ]
    }
   ],
   "source": [
    "# Separate males and females\n",
    "females = dating.loc[dating['Gender'] == 'Female']\n",
    "males = dating.loc[dating['Gender'] == 'Male']\n",
    "\n",
    "# Define the variables, x = female variables, y = male variables, w = whether female i is linked with male j\n",
    "x = np.matrix(females.drop(\"Gender\" , axis = 1))\n",
    "y = np.matrix(males.drop(\"Gender\" , axis = 1))\n",
    "w = cvx.Variable((len(females), len(males)), boolean=True)\n",
    "\n",
    "# Define the objective\n",
    "objective = cvx.Maximize(cvx.sum(cvx.multiply(x @ y.T , w)))\n",
    "\n",
    "# Define the constraints\n",
    "constraints = []\n",
    "for i in range(len(females)):\n",
    "    constraints.append(cvx.sum(w[i, :]) == 1)\n",
    "for j in range(len(males)):\n",
    "    constraints.append(cvx.sum(w[:, j]) == 1)\n",
    "\n",
    "# Solve the problem\n",
    "prob = cvx.Problem(objective, constraints)\n",
    "prob.solve()\n",
    "\n",
    "\n",
    "# Print the optimal match score\n",
    "print(f\"The optimal match score is {prob.value:.2f}.\")\n",
    "\n",
    "# Print the optimal matches\n",
    "for i in range(len(females)):\n",
    "    for j in range(len(males)):\n",
    "        if w.value[i,j] > 0:\n",
    "            print(f\"{females.iloc[i].name} <3 {males.iloc[j].name}\")\n",
    "    print(\"----------------\")"
   ]
  },
  {
   "cell_type": "markdown",
   "id": "d3289c03",
   "metadata": {},
   "source": [
    "#### 2. How would the results change if each person is presented with two possible matches?"
   ]
  },
  {
   "cell_type": "code",
   "execution_count": 220,
   "id": "31463613",
   "metadata": {
    "scrolled": false
   },
   "outputs": [
    {
     "name": "stdout",
     "output_type": "stream",
     "text": [
      "The optimal match score is 82.00.\n",
      "Laura <3 Adam\n",
      "Laura <3 Carl\n",
      "----------------\n",
      "Jennifer <3 Robert\n",
      "Jennifer <3 Adam\n",
      "----------------\n",
      "Emma <3 James\n",
      "Emma <3 Daniel\n",
      "----------------\n",
      "Olivia <3 Carl\n",
      "Olivia <3 Ralph\n",
      "----------------\n",
      "Martha <3 Eric\n",
      "Martha <3 Daniel\n",
      "----------------\n",
      "Isabella <3 Peter\n",
      "Isabella <3 Ralph\n",
      "----------------\n",
      "Mary <3 James\n",
      "Mary <3 Peter\n",
      "----------------\n",
      "Sophia <3 Robert\n",
      "Sophia <3 Eric\n",
      "----------------\n"
     ]
    }
   ],
   "source": [
    "# Separate males and females\n",
    "females = dating.loc[dating['Gender'] == 'Female']\n",
    "males = dating.loc[dating['Gender'] == 'Male']\n",
    "\n",
    "# Define the variables, x = female variables, y = male variables, w = whether female i is linked with male j\n",
    "x = np.matrix(females.drop(\"Gender\" , axis = 1))\n",
    "y = np.matrix(males.drop(\"Gender\" , axis = 1))\n",
    "w = cvx.Variable((len(females), len(males)), boolean=True)\n",
    "\n",
    "# Define the objective\n",
    "objective = cvx.Maximize(cvx.sum(cvx.multiply(x @ y.T , w)))\n",
    "\n",
    "# Define the constraints\n",
    "constraints = []\n",
    "for i in range(len(females)):\n",
    "    constraints.append(cvx.sum(w[i, :]) == 2)\n",
    "for j in range(len(males)):\n",
    "    constraints.append(cvx.sum(w[:, j]) == 2)\n",
    "\n",
    "# Solve the problem\n",
    "prob = cvx.Problem(objective, constraints)\n",
    "prob.solve()\n",
    "\n",
    "\n",
    "# Print the optimal match score\n",
    "print(f\"The optimal match score is {prob.value:.2f}.\")\n",
    "\n",
    "# Print the optimal matches\n",
    "for i in range(len(females)):\n",
    "    for j in range(len(males)):\n",
    "        if w.value[i,j] > 0:\n",
    "            print(f\"{females.iloc[i].name} <3 {males.iloc[j].name}\")\n",
    "    print(\"----------------\")"
   ]
  }
 ],
 "metadata": {
  "kernelspec": {
   "display_name": "Python 3 (ipykernel)",
   "language": "python",
   "name": "python3"
  },
  "language_info": {
   "codemirror_mode": {
    "name": "ipython",
    "version": 3
   },
   "file_extension": ".py",
   "mimetype": "text/x-python",
   "name": "python",
   "nbconvert_exporter": "python",
   "pygments_lexer": "ipython3",
   "version": "3.9.6"
  }
 },
 "nbformat": 4,
 "nbformat_minor": 5
}
