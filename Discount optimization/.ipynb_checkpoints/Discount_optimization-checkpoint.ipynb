{
 "cells": [
  {
   "cell_type": "markdown",
   "id": "7596f171",
   "metadata": {},
   "source": [
    "# Goal : optimize discount given to prospects."
   ]
  },
  {
   "cell_type": "code",
   "execution_count": 1,
   "id": "906a7377",
   "metadata": {},
   "outputs": [],
   "source": [
    "import pandas as pd\n",
    "import numpy as np\n",
    "from sklearn.model_selection import train_test_split\n",
    "import matplotlib.pyplot as plt\n",
    "import datetime as dt\n",
    "from sklearn.linear_model import LinearRegression\n",
    "from sklearn.linear_model import LogisticRegression\n",
    "from scipy.optimize import minimize\n",
    "from scipy.optimize import LinearConstraint\n",
    "\n",
    "from sklearn.metrics import accuracy_score\n",
    "import statsmodels.api as sm"
   ]
  },
  {
   "cell_type": "code",
   "execution_count": 2,
   "id": "cc37a86f",
   "metadata": {
    "scrolled": true
   },
   "outputs": [
    {
     "data": {
      "text/html": [
       "<div>\n",
       "<style scoped>\n",
       "    .dataframe tbody tr th:only-of-type {\n",
       "        vertical-align: middle;\n",
       "    }\n",
       "\n",
       "    .dataframe tbody tr th {\n",
       "        vertical-align: top;\n",
       "    }\n",
       "\n",
       "    .dataframe thead th {\n",
       "        text-align: right;\n",
       "    }\n",
       "</style>\n",
       "<table border=\"1\" class=\"dataframe\">\n",
       "  <thead>\n",
       "    <tr style=\"text-align: right;\">\n",
       "      <th></th>\n",
       "      <th>ID</th>\n",
       "      <th>Close Date</th>\n",
       "      <th>Created Date</th>\n",
       "      <th>New Logo</th>\n",
       "      <th>Type</th>\n",
       "      <th>Stage</th>\n",
       "      <th>Billing Plan</th>\n",
       "      <th>ACV</th>\n",
       "      <th>Discount Amount</th>\n",
       "      <th>Amount</th>\n",
       "      <th>Net Amount</th>\n",
       "    </tr>\n",
       "  </thead>\n",
       "  <tbody>\n",
       "    <tr>\n",
       "      <th>0</th>\n",
       "      <td>1</td>\n",
       "      <td>5/26/17</td>\n",
       "      <td>5/4/17</td>\n",
       "      <td>1</td>\n",
       "      <td>Direct - Cloud Product</td>\n",
       "      <td>Closed Lost</td>\n",
       "      <td>3 Years</td>\n",
       "      <td>431370</td>\n",
       "      <td></td>\n",
       "      <td>225000</td>\n",
       "      <td>225000</td>\n",
       "    </tr>\n",
       "    <tr>\n",
       "      <th>1</th>\n",
       "      <td>2</td>\n",
       "      <td>12/29/16</td>\n",
       "      <td>11/29/16</td>\n",
       "      <td>1</td>\n",
       "      <td>Partner - OnPremise Product</td>\n",
       "      <td>Closed Won - Paid</td>\n",
       "      <td>3 Years</td>\n",
       "      <td>22050</td>\n",
       "      <td>80850</td>\n",
       "      <td>147000</td>\n",
       "      <td>66150</td>\n",
       "    </tr>\n",
       "    <tr>\n",
       "      <th>2</th>\n",
       "      <td>3</td>\n",
       "      <td>12/29/16</td>\n",
       "      <td>12/9/16</td>\n",
       "      <td>1</td>\n",
       "      <td>Partner - Cloud Product</td>\n",
       "      <td>Closed Won - Paid</td>\n",
       "      <td>3 Years</td>\n",
       "      <td>32750</td>\n",
       "      <td>43200</td>\n",
       "      <td>96000</td>\n",
       "      <td>52800</td>\n",
       "    </tr>\n",
       "    <tr>\n",
       "      <th>3</th>\n",
       "      <td>4</td>\n",
       "      <td>9/9/16</td>\n",
       "      <td>4/20/16</td>\n",
       "      <td>1</td>\n",
       "      <td>Direct - Cloud Product</td>\n",
       "      <td>Closed Won - Paid</td>\n",
       "      <td>4 Years</td>\n",
       "      <td>36694</td>\n",
       "      <td>44800</td>\n",
       "      <td>128000</td>\n",
       "      <td>83200</td>\n",
       "    </tr>\n",
       "    <tr>\n",
       "      <th>4</th>\n",
       "      <td>5</td>\n",
       "      <td>9/22/16</td>\n",
       "      <td>9/1/16</td>\n",
       "      <td>1</td>\n",
       "      <td>Partner - OnPremise Product</td>\n",
       "      <td>Closed Won - Paid</td>\n",
       "      <td>3 Years</td>\n",
       "      <td>18700</td>\n",
       "      <td>9900</td>\n",
       "      <td>66000</td>\n",
       "      <td>56100</td>\n",
       "    </tr>\n",
       "  </tbody>\n",
       "</table>\n",
       "</div>"
      ],
      "text/plain": [
       "   ID Close Date Created Date  New Logo                         Type  \\\n",
       "0   1    5/26/17       5/4/17         1       Direct - Cloud Product   \n",
       "1   2   12/29/16     11/29/16         1  Partner - OnPremise Product   \n",
       "2   3   12/29/16      12/9/16         1      Partner - Cloud Product   \n",
       "3   4     9/9/16      4/20/16         1       Direct - Cloud Product   \n",
       "4   5    9/22/16       9/1/16         1  Partner - OnPremise Product   \n",
       "\n",
       "               Stage Billing Plan    ACV   Discount Amount   Amount   \\\n",
       "0        Closed Lost      3 Years  431370                     225000   \n",
       "1  Closed Won - Paid      3 Years   22050             80850   147000   \n",
       "2  Closed Won - Paid      3 Years   32750             43200    96000   \n",
       "3  Closed Won - Paid      4 Years   36694             44800   128000   \n",
       "4  Closed Won - Paid      3 Years   18700              9900    66000   \n",
       "\n",
       "   Net Amount   \n",
       "0       225000  \n",
       "1        66150  \n",
       "2        52800  \n",
       "3        83200  \n",
       "4        56100  "
      ]
     },
     "execution_count": 2,
     "metadata": {},
     "output_type": "execute_result"
    }
   ],
   "source": [
    "# load data\n",
    "df = pd.read_csv(\"https://raw.githubusercontent.com/ormarketing/b2b/master/data.csv\")\n",
    "\n",
    "# check data\n",
    "df.head()"
   ]
  },
  {
   "cell_type": "code",
   "execution_count": 3,
   "id": "75af058b",
   "metadata": {},
   "outputs": [],
   "source": [
    "def preprocess(df):\n",
    "    # remove redudant spaces in column names\n",
    "    df.columns = [col.strip(' ') for col in df.columns]\n",
    "    \n",
    "    # convert time into datetime format\n",
    "    df['Close Date'] = pd.to_datetime(df['Close Date'] , format = '%m/%d/%y')\n",
    "    df['Created Date'] = pd.to_datetime(df['Created Date'] , format = '%m/%d/%y')\n",
    "    \n",
    "    # create quarter label\n",
    "    df['Quarter'] = df['Close Date'].dt.quarter\n",
    "    \n",
    "    # create column that indicates the number of months within each quarter based on close date\n",
    "    df['Month in Q'] = df['Close Date'].dt.month - (df['Quarter'] - 1) * 3\n",
    "    \n",
    "    # remove unused column\n",
    "    df = df.drop('Billing Plan' , axis = 1) \n",
    "    \n",
    "    # convert number columns to numeric ones\n",
    "    df['Discount Amount'] = pd.to_numeric(df['Discount Amount'] , errors = 'coerce')\n",
    "    df['Amount'] = pd.to_numeric(df['Amount'], errors = 'coerce')\n",
    "    df['Net Amount'] = pd.to_numeric(df['Net Amount'], errors = 'coerce')\n",
    "    df['ACV'] = pd.to_numeric(df['ACV'], errors = 'coerce')\n",
    "    \n",
    "    # Discount fillna\n",
    "    df = df.fillna(0)\n",
    "    \n",
    "    return df"
   ]
  },
  {
   "cell_type": "code",
   "execution_count": 4,
   "id": "bd5bcbcb",
   "metadata": {},
   "outputs": [
    {
     "data": {
      "text/html": [
       "<div>\n",
       "<style scoped>\n",
       "    .dataframe tbody tr th:only-of-type {\n",
       "        vertical-align: middle;\n",
       "    }\n",
       "\n",
       "    .dataframe tbody tr th {\n",
       "        vertical-align: top;\n",
       "    }\n",
       "\n",
       "    .dataframe thead th {\n",
       "        text-align: right;\n",
       "    }\n",
       "</style>\n",
       "<table border=\"1\" class=\"dataframe\">\n",
       "  <thead>\n",
       "    <tr style=\"text-align: right;\">\n",
       "      <th></th>\n",
       "      <th>ID</th>\n",
       "      <th>Close Date</th>\n",
       "      <th>Created Date</th>\n",
       "      <th>New Logo</th>\n",
       "      <th>Type</th>\n",
       "      <th>Stage</th>\n",
       "      <th>ACV</th>\n",
       "      <th>Discount Amount</th>\n",
       "      <th>Amount</th>\n",
       "      <th>Net Amount</th>\n",
       "      <th>Quarter</th>\n",
       "      <th>Month in Q</th>\n",
       "    </tr>\n",
       "  </thead>\n",
       "  <tbody>\n",
       "    <tr>\n",
       "      <th>0</th>\n",
       "      <td>1</td>\n",
       "      <td>2017-05-26</td>\n",
       "      <td>2017-05-04</td>\n",
       "      <td>1</td>\n",
       "      <td>Direct - Cloud Product</td>\n",
       "      <td>Closed Lost</td>\n",
       "      <td>431370.0</td>\n",
       "      <td>0.0</td>\n",
       "      <td>225000.0</td>\n",
       "      <td>225000.0</td>\n",
       "      <td>2</td>\n",
       "      <td>2</td>\n",
       "    </tr>\n",
       "    <tr>\n",
       "      <th>1</th>\n",
       "      <td>2</td>\n",
       "      <td>2016-12-29</td>\n",
       "      <td>2016-11-29</td>\n",
       "      <td>1</td>\n",
       "      <td>Partner - OnPremise Product</td>\n",
       "      <td>Closed Won - Paid</td>\n",
       "      <td>22050.0</td>\n",
       "      <td>80850.0</td>\n",
       "      <td>147000.0</td>\n",
       "      <td>66150.0</td>\n",
       "      <td>4</td>\n",
       "      <td>3</td>\n",
       "    </tr>\n",
       "    <tr>\n",
       "      <th>2</th>\n",
       "      <td>3</td>\n",
       "      <td>2016-12-29</td>\n",
       "      <td>2016-12-09</td>\n",
       "      <td>1</td>\n",
       "      <td>Partner - Cloud Product</td>\n",
       "      <td>Closed Won - Paid</td>\n",
       "      <td>32750.0</td>\n",
       "      <td>43200.0</td>\n",
       "      <td>96000.0</td>\n",
       "      <td>52800.0</td>\n",
       "      <td>4</td>\n",
       "      <td>3</td>\n",
       "    </tr>\n",
       "    <tr>\n",
       "      <th>3</th>\n",
       "      <td>4</td>\n",
       "      <td>2016-09-09</td>\n",
       "      <td>2016-04-20</td>\n",
       "      <td>1</td>\n",
       "      <td>Direct - Cloud Product</td>\n",
       "      <td>Closed Won - Paid</td>\n",
       "      <td>36694.0</td>\n",
       "      <td>44800.0</td>\n",
       "      <td>128000.0</td>\n",
       "      <td>83200.0</td>\n",
       "      <td>3</td>\n",
       "      <td>3</td>\n",
       "    </tr>\n",
       "    <tr>\n",
       "      <th>4</th>\n",
       "      <td>5</td>\n",
       "      <td>2016-09-22</td>\n",
       "      <td>2016-09-01</td>\n",
       "      <td>1</td>\n",
       "      <td>Partner - OnPremise Product</td>\n",
       "      <td>Closed Won - Paid</td>\n",
       "      <td>18700.0</td>\n",
       "      <td>9900.0</td>\n",
       "      <td>66000.0</td>\n",
       "      <td>56100.0</td>\n",
       "      <td>3</td>\n",
       "      <td>3</td>\n",
       "    </tr>\n",
       "  </tbody>\n",
       "</table>\n",
       "</div>"
      ],
      "text/plain": [
       "   ID Close Date Created Date  New Logo                         Type  \\\n",
       "0   1 2017-05-26   2017-05-04         1       Direct - Cloud Product   \n",
       "1   2 2016-12-29   2016-11-29         1  Partner - OnPremise Product   \n",
       "2   3 2016-12-29   2016-12-09         1      Partner - Cloud Product   \n",
       "3   4 2016-09-09   2016-04-20         1       Direct - Cloud Product   \n",
       "4   5 2016-09-22   2016-09-01         1  Partner - OnPremise Product   \n",
       "\n",
       "               Stage       ACV  Discount Amount    Amount  Net Amount  \\\n",
       "0        Closed Lost  431370.0              0.0  225000.0    225000.0   \n",
       "1  Closed Won - Paid   22050.0          80850.0  147000.0     66150.0   \n",
       "2  Closed Won - Paid   32750.0          43200.0   96000.0     52800.0   \n",
       "3  Closed Won - Paid   36694.0          44800.0  128000.0     83200.0   \n",
       "4  Closed Won - Paid   18700.0           9900.0   66000.0     56100.0   \n",
       "\n",
       "   Quarter  Month in Q  \n",
       "0        2           2  \n",
       "1        4           3  \n",
       "2        4           3  \n",
       "3        3           3  \n",
       "4        3           3  "
      ]
     },
     "execution_count": 4,
     "metadata": {},
     "output_type": "execute_result"
    }
   ],
   "source": [
    "b2b = preprocess(df)\n",
    "b2b.head()"
   ]
  },
  {
   "cell_type": "markdown",
   "id": "03781840",
   "metadata": {},
   "source": [
    "## EDA\n",
    "---\n",
    "> Stage"
   ]
  },
  {
   "cell_type": "code",
   "execution_count": 5,
   "id": "c22db116",
   "metadata": {
    "scrolled": true
   },
   "outputs": [
    {
     "data": {
      "text/plain": [
       "Stage\n",
       "Closed - Lost                   1\n",
       "Closed Lost                   968\n",
       "Closed Lost - Not Renewing      2\n",
       "Closed Won - Not Paid          63\n",
       "Closed Won - Paid             471\n",
       "dtype: int64"
      ]
     },
     "execution_count": 5,
     "metadata": {},
     "output_type": "execute_result"
    }
   ],
   "source": [
    "b2b.groupby('Stage').size()"
   ]
  },
  {
   "cell_type": "markdown",
   "id": "738b9212",
   "metadata": {},
   "source": [
    "> ID"
   ]
  },
  {
   "cell_type": "code",
   "execution_count": 6,
   "id": "9d06a078",
   "metadata": {},
   "outputs": [
    {
     "data": {
      "text/plain": [
       "0          1\n",
       "1          2\n",
       "2          3\n",
       "3          4\n",
       "4          5\n",
       "        ... \n",
       "1500    1501\n",
       "1501    1502\n",
       "1502    1503\n",
       "1503    1504\n",
       "1504    1505\n",
       "Name: ID, Length: 1505, dtype: int64"
      ]
     },
     "execution_count": 6,
     "metadata": {},
     "output_type": "execute_result"
    }
   ],
   "source": [
    "b2b['ID']"
   ]
  },
  {
   "cell_type": "markdown",
   "id": "20a75d49",
   "metadata": {},
   "source": [
    "> Close Data"
   ]
  },
  {
   "cell_type": "code",
   "execution_count": 7,
   "id": "01541954",
   "metadata": {},
   "outputs": [
    {
     "data": {
      "image/png": "[encoded data removed]",
      "text/plain": [
       "<Figure size 640x480 with 1 Axes>"
      ]
     },
     "metadata": {},
     "output_type": "display_data"
    }
   ],
   "source": [
    "data = df.groupby('Close Date').size().reset_index(name='Count')\n",
    "# Create the plot\n",
    "plt.plot(data['Close Date'], data['Count'])\n",
    "\n",
    "# Add labels and title\n",
    "plt.xlabel('Close Date')\n",
    "plt.ylabel('Number of deals')\n",
    "plt.title('Close Date plot')\n",
    "plt.xticks(rotation = 30)\n",
    "\n",
    "plt.show()"
   ]
  },
  {
   "cell_type": "markdown",
   "id": "4c432df2",
   "metadata": {},
   "source": [
    "> Seanson end effect"
   ]
  },
  {
   "cell_type": "code",
   "execution_count": 8,
   "id": "305694b3",
   "metadata": {},
   "outputs": [
    {
     "name": "stderr",
     "output_type": "stream",
     "text": [
      "/var/folders/j3/x1nvf_l57xv1hc1n_hx87lv00000gn/T/ipykernel_50604/2121094622.py:1: FutureWarning: The default value of numeric_only in DataFrameGroupBy.median is deprecated. In a future version, numeric_only will default to False. Either specify numeric_only or select only columns which should be valid for the function.\n",
      "  b2b.groupby('Close Date').median()['Discount Amount'].plot()\n"
     ]
    },
    {
     "data": {
      "image/png": "[encoded data removed]",
      "text/plain": [
       "<Figure size 640x480 with 1 Axes>"
      ]
     },
     "metadata": {},
     "output_type": "display_data"
    }
   ],
   "source": [
    "b2b.groupby('Close Date').median()['Discount Amount'].plot()\n",
    "\n",
    "# mark starting point of each quarter\n",
    "quarter_starts = b2b.groupby(pd.Grouper(key='Close Date', freq='Q')).first().index\n",
    "\n",
    "for start_date in quarter_starts:\n",
    "    plt.axvline(x = start_date, color='red', linestyle='-')\n",
    "\n",
    "plt.show()"
   ]
  },
  {
   "cell_type": "markdown",
   "id": "f033fcb0",
   "metadata": {},
   "source": [
    "> discounts seem to be higher on both the middle of each quarter and the end of each quarter, run a followup test to see if the discounts are significantly higher at quarter ends."
   ]
  },
  {
   "cell_type": "markdown",
   "id": "e55c0bfd",
   "metadata": {},
   "source": [
    "#### Regress discount amount on Month within each quarter"
   ]
  },
  {
   "cell_type": "code",
   "execution_count": 9,
   "id": "0feb3b2b",
   "metadata": {},
   "outputs": [],
   "source": [
    "# create new df for calculating quarter end effect\n",
    "quarter_df = b2b[['Discount Amount' , 'Month in Q']]\n",
    "\n",
    "# create dummies for each month in quarter\n",
    "MinQ_dum = pd.get_dummies(quarter_df['Month in Q'])\n",
    "\n",
    "# combine into original df\n",
    "quarter_df = pd.concat([quarter_df , MinQ_dum] , axis = 1)\n",
    "\n",
    "# rename columns\n",
    "quarter_df.rename(columns= {1 : '1 month in Q' , 2 : '2 months in Q' , 3 : '3 months in Q'} , inplace = True)"
   ]
  },
  {
   "cell_type": "code",
   "execution_count": 10,
   "id": "0b7aac45",
   "metadata": {},
   "outputs": [
    {
     "data": {
      "text/html": [
       "<div>\n",
       "<style scoped>\n",
       "    .dataframe tbody tr th:only-of-type {\n",
       "        vertical-align: middle;\n",
       "    }\n",
       "\n",
       "    .dataframe tbody tr th {\n",
       "        vertical-align: top;\n",
       "    }\n",
       "\n",
       "    .dataframe thead th {\n",
       "        text-align: right;\n",
       "    }\n",
       "</style>\n",
       "<table border=\"1\" class=\"dataframe\">\n",
       "  <thead>\n",
       "    <tr style=\"text-align: right;\">\n",
       "      <th></th>\n",
       "      <th>Discount Amount</th>\n",
       "      <th>Month in Q</th>\n",
       "      <th>1 month in Q</th>\n",
       "      <th>2 months in Q</th>\n",
       "      <th>3 months in Q</th>\n",
       "    </tr>\n",
       "  </thead>\n",
       "  <tbody>\n",
       "    <tr>\n",
       "      <th>0</th>\n",
       "      <td>0.0</td>\n",
       "      <td>2</td>\n",
       "      <td>0</td>\n",
       "      <td>1</td>\n",
       "      <td>0</td>\n",
       "    </tr>\n",
       "    <tr>\n",
       "      <th>1</th>\n",
       "      <td>80850.0</td>\n",
       "      <td>3</td>\n",
       "      <td>0</td>\n",
       "      <td>0</td>\n",
       "      <td>1</td>\n",
       "    </tr>\n",
       "    <tr>\n",
       "      <th>2</th>\n",
       "      <td>43200.0</td>\n",
       "      <td>3</td>\n",
       "      <td>0</td>\n",
       "      <td>0</td>\n",
       "      <td>1</td>\n",
       "    </tr>\n",
       "    <tr>\n",
       "      <th>3</th>\n",
       "      <td>44800.0</td>\n",
       "      <td>3</td>\n",
       "      <td>0</td>\n",
       "      <td>0</td>\n",
       "      <td>1</td>\n",
       "    </tr>\n",
       "    <tr>\n",
       "      <th>4</th>\n",
       "      <td>9900.0</td>\n",
       "      <td>3</td>\n",
       "      <td>0</td>\n",
       "      <td>0</td>\n",
       "      <td>1</td>\n",
       "    </tr>\n",
       "  </tbody>\n",
       "</table>\n",
       "</div>"
      ],
      "text/plain": [
       "   Discount Amount  Month in Q  1 month in Q  2 months in Q  3 months in Q\n",
       "0              0.0           2             0              1              0\n",
       "1          80850.0           3             0              0              1\n",
       "2          43200.0           3             0              0              1\n",
       "3          44800.0           3             0              0              1\n",
       "4           9900.0           3             0              0              1"
      ]
     },
     "execution_count": 10,
     "metadata": {},
     "output_type": "execute_result"
    }
   ],
   "source": [
    "quarter_df.head()"
   ]
  },
  {
   "cell_type": "code",
   "execution_count": 11,
   "id": "70af8785",
   "metadata": {
    "scrolled": false
   },
   "outputs": [
    {
     "name": "stdout",
     "output_type": "stream",
     "text": [
      "                            OLS Regression Results                            \n",
      "==============================================================================\n",
      "Dep. Variable:        Discount Amount   R-squared:                       0.024\n",
      "Model:                            OLS   Adj. R-squared:                  0.022\n",
      "Method:                 Least Squares   F-statistic:                     18.27\n",
      "Date:                Tue, 06 Jun 2023   Prob (F-statistic):           1.44e-08\n",
      "Time:                        23:45:46   Log-Likelihood:                -18436.\n",
      "No. Observations:                1505   AIC:                         3.688e+04\n",
      "Df Residuals:                    1502   BIC:                         3.689e+04\n",
      "Df Model:                           2                                         \n",
      "Covariance Type:            nonrobust                                         \n",
      "=================================================================================\n",
      "                    coef    std err          t      P>|t|      [0.025      0.975]\n",
      "---------------------------------------------------------------------------------\n",
      "1 month in Q   6234.6329   2278.725      2.736      0.006    1764.812    1.07e+04\n",
      "2 months in Q  1.074e+04   2445.645      4.390      0.000    5939.398    1.55e+04\n",
      "3 months in Q   2.41e+04   2093.673     11.511      0.000       2e+04    2.82e+04\n",
      "==============================================================================\n",
      "Omnibus:                     2587.886   Durbin-Watson:                   2.000\n",
      "Prob(Omnibus):                  0.000   Jarque-Bera (JB):          2303484.279\n",
      "Skew:                          11.439   Prob(JB):                         0.00\n",
      "Kurtosis:                     193.289   Cond. No.                         1.17\n",
      "==============================================================================\n",
      "\n",
      "Notes:\n",
      "[1] Standard Errors assume that the covariance matrix of the errors is correctly specified.\n"
     ]
    }
   ],
   "source": [
    "X = quarter_df[[col for col in quarter_df.columns if 'month' in col]]\n",
    "y = quarter_df['Discount Amount']\n",
    "\n",
    "\n",
    "# Create a linear regression model using statsmodels\n",
    "## specify that we don't want intercept because we didn't drop any of the dummies in the previous stage,\n",
    "## an intercept will result in multi-colinearity\n",
    "model = sm.OLS(endog = y, exog = X)\n",
    "\n",
    "results = model.fit()\n",
    "print(results.summary())"
   ]
  },
  {
   "cell_type": "markdown",
   "id": "881bfcab",
   "metadata": {},
   "source": [
    ">From coefficients (end of quarter months have highest coef) and p-values, we know that under 99% significance level, we have enough evidence to conclude that \"end-of-the-quarter\" effect exists. We will be including those dummies into our model.\n",
    "\n",
    "___"
   ]
  },
  {
   "cell_type": "markdown",
   "id": "f83ddeb0",
   "metadata": {},
   "source": [
    "> New logo"
   ]
  },
  {
   "cell_type": "code",
   "execution_count": 12,
   "id": "51057031",
   "metadata": {},
   "outputs": [
    {
     "data": {
      "text/plain": [
       "New Logo\n",
       "0    804\n",
       "1    701\n",
       "dtype: int64"
      ]
     },
     "execution_count": 12,
     "metadata": {},
     "output_type": "execute_result"
    }
   ],
   "source": [
    "b2b.groupby('New Logo').size()"
   ]
  },
  {
   "cell_type": "markdown",
   "id": "750cdfd0",
   "metadata": {},
   "source": [
    "> Type"
   ]
  },
  {
   "cell_type": "code",
   "execution_count": 13,
   "id": "dd12b731",
   "metadata": {},
   "outputs": [
    {
     "data": {
      "text/plain": [
       "Type\n",
       "Direct - Cloud Product          68\n",
       "Direct - OnPremise Product     383\n",
       "Partner - Cloud Product        230\n",
       "Partner - OnPremise Product    824\n",
       "dtype: int64"
      ]
     },
     "execution_count": 13,
     "metadata": {},
     "output_type": "execute_result"
    }
   ],
   "source": [
    "b2b.groupby('Type').size()"
   ]
  },
  {
   "cell_type": "code",
   "execution_count": 14,
   "id": "eb1eae22",
   "metadata": {},
   "outputs": [],
   "source": [
    "def process_for_model_training(df):\n",
    "    df_new = df.copy()\n",
    "   # clean stage column, 1 when \"Won\", else 0\n",
    "    df_new['Stage_dummy'] = df_new['Stage'].apply(lambda x : 0 if 'Lost' in x else 1)\n",
    "    df_new = df_new.drop('Stage' , axis = 1)\n",
    "    \n",
    "#     # create dummies for \"Type\"\n",
    "#     dummies = pd.get_dummies(df_new['Type'] , prefix = 'Category')\n",
    "#     dropped_col = dummies.columns[0] # drop 1 column to prevent multi-colinearity\n",
    "#     print(f\"Dummy dropped : {dropped_col}\")\n",
    "#     dummies.drop(dropped_col , axis = 1 , inplace = True)\n",
    "    \n",
    "    # create dummies for each month in quarter\n",
    "    MinQ_dum = pd.get_dummies(quarter_df['Month in Q']).iloc[: , 1:] ## drop first col to prevent multi-colinearity\n",
    "    df_new = pd.concat([df_new , MinQ_dum] , axis = 1) ## combine into original df\n",
    "    df_new.rename(columns= {2 : '2 months in Q' , 3 : '3 months in Q'} , inplace = True) # rename columns\n",
    "    \n",
    "    # Set index\n",
    "    df_new.set_index('ID' , inplace = True)\n",
    "    \n",
    "    # drop redundant columns\n",
    "    df_new.drop(['Month in Q' , 'Close Date' , 'Created Date' , 'Net Amount'] , axis = 1 , inplace = True)\n",
    "    \n",
    "    return df_new"
   ]
  },
  {
   "cell_type": "code",
   "execution_count": 15,
   "id": "7c9696f3",
   "metadata": {},
   "outputs": [],
   "source": [
    "b2b_cleaned = process_for_model_training(b2b)"
   ]
  },
  {
   "cell_type": "code",
   "execution_count": 16,
   "id": "133e05bb",
   "metadata": {
    "scrolled": true
   },
   "outputs": [
    {
     "data": {
      "text/html": [
       "<div>\n",
       "<style scoped>\n",
       "    .dataframe tbody tr th:only-of-type {\n",
       "        vertical-align: middle;\n",
       "    }\n",
       "\n",
       "    .dataframe tbody tr th {\n",
       "        vertical-align: top;\n",
       "    }\n",
       "\n",
       "    .dataframe thead th {\n",
       "        text-align: right;\n",
       "    }\n",
       "</style>\n",
       "<table border=\"1\" class=\"dataframe\">\n",
       "  <thead>\n",
       "    <tr style=\"text-align: right;\">\n",
       "      <th></th>\n",
       "      <th>New Logo</th>\n",
       "      <th>Type</th>\n",
       "      <th>ACV</th>\n",
       "      <th>Discount Amount</th>\n",
       "      <th>Amount</th>\n",
       "      <th>Quarter</th>\n",
       "      <th>Stage_dummy</th>\n",
       "      <th>2 months in Q</th>\n",
       "      <th>3 months in Q</th>\n",
       "    </tr>\n",
       "    <tr>\n",
       "      <th>ID</th>\n",
       "      <th></th>\n",
       "      <th></th>\n",
       "      <th></th>\n",
       "      <th></th>\n",
       "      <th></th>\n",
       "      <th></th>\n",
       "      <th></th>\n",
       "      <th></th>\n",
       "      <th></th>\n",
       "    </tr>\n",
       "  </thead>\n",
       "  <tbody>\n",
       "    <tr>\n",
       "      <th>1</th>\n",
       "      <td>1</td>\n",
       "      <td>Direct - Cloud Product</td>\n",
       "      <td>431370.0</td>\n",
       "      <td>0.0</td>\n",
       "      <td>225000.0</td>\n",
       "      <td>2</td>\n",
       "      <td>0</td>\n",
       "      <td>1</td>\n",
       "      <td>0</td>\n",
       "    </tr>\n",
       "    <tr>\n",
       "      <th>2</th>\n",
       "      <td>1</td>\n",
       "      <td>Partner - OnPremise Product</td>\n",
       "      <td>22050.0</td>\n",
       "      <td>80850.0</td>\n",
       "      <td>147000.0</td>\n",
       "      <td>4</td>\n",
       "      <td>1</td>\n",
       "      <td>0</td>\n",
       "      <td>1</td>\n",
       "    </tr>\n",
       "    <tr>\n",
       "      <th>3</th>\n",
       "      <td>1</td>\n",
       "      <td>Partner - Cloud Product</td>\n",
       "      <td>32750.0</td>\n",
       "      <td>43200.0</td>\n",
       "      <td>96000.0</td>\n",
       "      <td>4</td>\n",
       "      <td>1</td>\n",
       "      <td>0</td>\n",
       "      <td>1</td>\n",
       "    </tr>\n",
       "    <tr>\n",
       "      <th>4</th>\n",
       "      <td>1</td>\n",
       "      <td>Direct - Cloud Product</td>\n",
       "      <td>36694.0</td>\n",
       "      <td>44800.0</td>\n",
       "      <td>128000.0</td>\n",
       "      <td>3</td>\n",
       "      <td>1</td>\n",
       "      <td>0</td>\n",
       "      <td>1</td>\n",
       "    </tr>\n",
       "    <tr>\n",
       "      <th>5</th>\n",
       "      <td>1</td>\n",
       "      <td>Partner - OnPremise Product</td>\n",
       "      <td>18700.0</td>\n",
       "      <td>9900.0</td>\n",
       "      <td>66000.0</td>\n",
       "      <td>3</td>\n",
       "      <td>1</td>\n",
       "      <td>0</td>\n",
       "      <td>1</td>\n",
       "    </tr>\n",
       "  </tbody>\n",
       "</table>\n",
       "</div>"
      ],
      "text/plain": [
       "    New Logo                         Type       ACV  Discount Amount  \\\n",
       "ID                                                                     \n",
       "1          1       Direct - Cloud Product  431370.0              0.0   \n",
       "2          1  Partner - OnPremise Product   22050.0          80850.0   \n",
       "3          1      Partner - Cloud Product   32750.0          43200.0   \n",
       "4          1       Direct - Cloud Product   36694.0          44800.0   \n",
       "5          1  Partner - OnPremise Product   18700.0           9900.0   \n",
       "\n",
       "      Amount  Quarter  Stage_dummy  2 months in Q  3 months in Q  \n",
       "ID                                                                \n",
       "1   225000.0        2            0              1              0  \n",
       "2   147000.0        4            1              0              1  \n",
       "3    96000.0        4            1              0              1  \n",
       "4   128000.0        3            1              0              1  \n",
       "5    66000.0        3            1              0              1  "
      ]
     },
     "execution_count": 16,
     "metadata": {},
     "output_type": "execute_result"
    }
   ],
   "source": [
    "b2b_cleaned.head()"
   ]
  },
  {
   "cell_type": "markdown",
   "id": "cb3e3583",
   "metadata": {},
   "source": [
    "### Question 1"
   ]
  },
  {
   "cell_type": "markdown",
   "id": "960da69c",
   "metadata": {},
   "source": [
    "#### 1. Split the data into two samples, a training sample and a hold-out sample."
   ]
  },
  {
   "cell_type": "markdown",
   "id": "e26e256a",
   "metadata": {},
   "source": [
    "I use train test split to randomly split the data into 80% training and 20% testing, this is to prevent any human-decision caused bias."
   ]
  },
  {
   "cell_type": "markdown",
   "id": "4d259009",
   "metadata": {},
   "source": [
    "1. divide datasets with product type"
   ]
  },
  {
   "cell_type": "code",
   "execution_count": 17,
   "id": "eebf5b80",
   "metadata": {},
   "outputs": [],
   "source": [
    "# list of different products\n",
    "products = b2b_cleaned['Type'].unique()\n",
    "\n",
    "# create a dictionary to store df of different product\n",
    "df_dict = {}\n",
    "\n",
    "# append corresponding df into dict\n",
    "for product in products:\n",
    "    df_dict[product] = b2b_cleaned[b2b_cleaned['Type'] == product].drop('Type' , axis = 1)"
   ]
  },
  {
   "cell_type": "code",
   "execution_count": 18,
   "id": "579127e2",
   "metadata": {},
   "outputs": [],
   "source": [
    "random_seed = 0"
   ]
  },
  {
   "cell_type": "code",
   "execution_count": 19,
   "id": "e8810e92",
   "metadata": {},
   "outputs": [],
   "source": [
    "# store different training and hold data set\n",
    "train_dict = {}\n",
    "holdout_dict = {}\n",
    "\n",
    "for key in df_dict:\n",
    "    train_dict[key] , holdout_dict[key] = train_test_split(df_dict[key] , test_size = 0.2 , random_state = random_seed)"
   ]
  },
  {
   "cell_type": "code",
   "execution_count": 20,
   "id": "effa70bb",
   "metadata": {},
   "outputs": [
    {
     "name": "stdout",
     "output_type": "stream",
     "text": [
      "Product : Direct - Cloud Product\n",
      "Training sample size : 54\n",
      "Hold-out sample size : 14\n",
      "========================================\n",
      "Product : Partner - OnPremise Product\n",
      "Training sample size : 659\n",
      "Hold-out sample size : 165\n",
      "========================================\n",
      "Product : Partner - Cloud Product\n",
      "Training sample size : 184\n",
      "Hold-out sample size : 46\n",
      "========================================\n",
      "Product : Direct - OnPremise Product\n",
      "Training sample size : 306\n",
      "Hold-out sample size : 77\n",
      "========================================\n"
     ]
    }
   ],
   "source": [
    "for key in train_dict:\n",
    "    print(f\"Product : {key}\")\n",
    "    print(f\"Training sample size : {len(train_dict[key])}\")\n",
    "    print(f\"Hold-out sample size : {len(holdout_dict[key])}\")\n",
    "    print(\"========================================\")"
   ]
  },
  {
   "cell_type": "markdown",
   "id": "a18afac8",
   "metadata": {},
   "source": [
    "### 2. Using the estimation sample, estimate one or several logit models. Your performance metrics are:\n",
    "\n",
    "a. Expected revenue improvement over un-optimized discounts (take the actual discounts in the data-set) for leads in the hold-out sample\n",
    "\n",
    "b. Expected revenue improvement over optimized discounts (based on your estimation results, optimize discounts offered to leads in the hold-out sample)."
   ]
  },
  {
   "cell_type": "markdown",
   "id": "eab05087",
   "metadata": {},
   "source": [
    "> Train independent models"
   ]
  },
  {
   "cell_type": "code",
   "execution_count": 21,
   "id": "5001621f",
   "metadata": {},
   "outputs": [],
   "source": [
    "def logit_train(train_df):\n",
    "    # set dependent and independent variables\n",
    "    X = train_df[[col for col in train_df.columns if col not in ['Stage_dummy']]]\n",
    "    y = train_df['Stage_dummy']\n",
    "    logit_model = sm.Logit(y , X)\n",
    "    results = logit_model.fit()\n",
    "    \n",
    "    # show training result\n",
    "    print(results.summary())\n",
    "    \n",
    "    return results"
   ]
  },
  {
   "cell_type": "code",
   "execution_count": 22,
   "id": "c4f946db",
   "metadata": {
    "scrolled": false
   },
   "outputs": [
    {
     "name": "stdout",
     "output_type": "stream",
     "text": [
      "-----------------------\n",
      "|Direct - Cloud Product|\n",
      "-----------------------\n",
      "Optimization terminated successfully.\n",
      "         Current function value: 0.234477\n",
      "         Iterations 10\n",
      "                           Logit Regression Results                           \n",
      "==============================================================================\n",
      "Dep. Variable:            Stage_dummy   No. Observations:                   54\n",
      "Model:                          Logit   Df Residuals:                       47\n",
      "Method:                           MLE   Df Model:                            6\n",
      "Date:                Tue, 06 Jun 2023   Pseudo R-squ.:                  0.6443\n",
      "Time:                        23:45:46   Log-Likelihood:                -12.662\n",
      "converged:                       True   LL-Null:                       -35.594\n",
      "Covariance Type:            nonrobust   LLR p-value:                 3.150e-08\n",
      "===================================================================================\n",
      "                      coef    std err          z      P>|z|      [0.025      0.975]\n",
      "-----------------------------------------------------------------------------------\n",
      "New Logo            7.2713      2.782      2.614      0.009       1.820      12.723\n",
      "ACV                -0.0001   6.84e-05     -2.158      0.031      -0.000   -1.36e-05\n",
      "Discount Amount     0.0002   5.98e-05      2.642      0.008    4.08e-05       0.000\n",
      "Amount           6.225e-07   1.37e-05      0.045      0.964   -2.63e-05    2.75e-05\n",
      "Quarter            -2.2397      0.765     -2.927      0.003      -3.739      -0.740\n",
      "2 months in Q       2.0352      1.620      1.256      0.209      -1.140       5.211\n",
      "3 months in Q       3.3623      1.809      1.859      0.063      -0.183       6.908\n",
      "===================================================================================\n",
      "\n",
      "Possibly complete quasi-separation: A fraction 0.24 of observations can be\n",
      "perfectly predicted. This might indicate that there is complete\n",
      "quasi-separation. In this case some parameters will not be identified.\n",
      "----------------------------\n",
      "|Partner - OnPremise Product|\n",
      "----------------------------\n",
      "Optimization terminated successfully.\n",
      "         Current function value: 0.422785\n",
      "         Iterations 8\n",
      "                           Logit Regression Results                           \n",
      "==============================================================================\n",
      "Dep. Variable:            Stage_dummy   No. Observations:                  659\n",
      "Model:                          Logit   Df Residuals:                      652\n",
      "Method:                           MLE   Df Model:                            6\n",
      "Date:                Tue, 06 Jun 2023   Pseudo R-squ.:                  0.3665\n",
      "Time:                        23:45:46   Log-Likelihood:                -278.62\n",
      "converged:                       True   LL-Null:                       -439.79\n",
      "Covariance Type:            nonrobust   LLR p-value:                 1.320e-66\n",
      "===================================================================================\n",
      "                      coef    std err          z      P>|z|      [0.025      0.975]\n",
      "-----------------------------------------------------------------------------------\n",
      "New Logo            1.3523      0.210      6.454      0.000       0.942       1.763\n",
      "ACV             -7.302e-05   7.11e-06    -10.268      0.000    -8.7e-05   -5.91e-05\n",
      "Discount Amount  3.018e-05   7.69e-06      3.924      0.000    1.51e-05    4.53e-05\n",
      "Amount           2.554e-05   3.48e-06      7.329      0.000    1.87e-05    3.24e-05\n",
      "Quarter            -0.1863      0.068     -2.729      0.006      -0.320      -0.052\n",
      "2 months in Q      -0.2515      0.256     -0.982      0.326      -0.753       0.250\n",
      "3 months in Q       0.5813      0.230      2.523      0.012       0.130       1.033\n",
      "===================================================================================\n",
      "------------------------\n",
      "|Partner - Cloud Product|\n",
      "------------------------\n",
      "Optimization terminated successfully.\n",
      "         Current function value: 0.336585\n",
      "         Iterations 8\n",
      "                           Logit Regression Results                           \n",
      "==============================================================================\n",
      "Dep. Variable:            Stage_dummy   No. Observations:                  184\n",
      "Model:                          Logit   Df Residuals:                      177\n",
      "Method:                           MLE   Df Model:                            6\n",
      "Date:                Tue, 06 Jun 2023   Pseudo R-squ.:                  0.5144\n",
      "Time:                        23:45:46   Log-Likelihood:                -61.932\n",
      "converged:                       True   LL-Null:                       -127.54\n",
      "Covariance Type:            nonrobust   LLR p-value:                 7.131e-26\n",
      "===================================================================================\n",
      "                      coef    std err          z      P>|z|      [0.025      0.975]\n",
      "-----------------------------------------------------------------------------------\n",
      "New Logo            3.5382      0.780      4.535      0.000       2.009       5.067\n",
      "ACV             -1.932e-05   8.11e-06     -2.383      0.017   -3.52e-05   -3.43e-06\n",
      "Discount Amount  5.235e-05   1.36e-05      3.844      0.000    2.57e-05     7.9e-05\n",
      "Amount          -6.031e-06    5.3e-06     -1.138      0.255   -1.64e-05    4.36e-06\n",
      "Quarter            -1.2198      0.270     -4.519      0.000      -1.749      -0.691\n",
      "2 months in Q       0.0367      0.544      0.068      0.946      -1.029       1.102\n",
      "3 months in Q       1.7225      0.546      3.152      0.002       0.651       2.794\n",
      "===================================================================================\n",
      "---------------------------\n",
      "|Direct - OnPremise Product|\n",
      "---------------------------\n",
      "Optimization terminated successfully.\n",
      "         Current function value: 0.327440\n",
      "         Iterations 8\n",
      "                           Logit Regression Results                           \n",
      "==============================================================================\n",
      "Dep. Variable:            Stage_dummy   No. Observations:                  306\n",
      "Model:                          Logit   Df Residuals:                      299\n",
      "Method:                           MLE   Df Model:                            6\n",
      "Date:                Tue, 06 Jun 2023   Pseudo R-squ.:                  0.4040\n",
      "Time:                        23:45:46   Log-Likelihood:                -100.20\n",
      "converged:                       True   LL-Null:                       -168.12\n",
      "Covariance Type:            nonrobust   LLR p-value:                 7.523e-27\n",
      "===================================================================================\n",
      "                      coef    std err          z      P>|z|      [0.025      0.975]\n",
      "-----------------------------------------------------------------------------------\n",
      "New Logo            1.4727      0.363      4.061      0.000       0.762       2.183\n",
      "ACV                -0.0001   2.19e-05     -6.795      0.000      -0.000      -0.000\n",
      "Discount Amount -4.039e-05   2.46e-05     -1.643      0.100   -8.86e-05     7.8e-06\n",
      "Amount           4.938e-05   1.31e-05      3.762      0.000    2.37e-05    7.51e-05\n",
      "Quarter            -0.0069      0.135     -0.051      0.959      -0.272       0.258\n",
      "2 months in Q      -0.2468      0.452     -0.546      0.585      -1.134       0.640\n",
      "3 months in Q       0.5047      0.386      1.306      0.191      -0.253       1.262\n",
      "===================================================================================\n"
     ]
    }
   ],
   "source": [
    "model_dict = {}\n",
    "\n",
    "for key in train_dict:\n",
    "    print(\"-\" * (len(key) + 1))\n",
    "    print(f\"|{key}|\")\n",
    "    print(\"-\" * (len(key) + 1))\n",
    "    model_dict[key] = logit_train(train_dict[key])"
   ]
  },
  {
   "cell_type": "markdown",
   "id": "0eea1e4f",
   "metadata": {},
   "source": [
    "## a. Expected revenue improvement over un-optimized discounts (take the actual discounts in the data-set) for leads in the hold-out sample"
   ]
  },
  {
   "cell_type": "code",
   "execution_count": 23,
   "id": "87cfe3f5",
   "metadata": {},
   "outputs": [],
   "source": [
    "# make prediction for each product\n",
    "for key in holdout_dict:\n",
    "    test_predict = model_dict[key].predict(holdout_dict[key].drop('Stage_dummy' , axis = 1))\n",
    "    holdout_dict[key]['predict'] = test_predict"
   ]
  },
  {
   "cell_type": "code",
   "execution_count": 24,
   "id": "2e433cef",
   "metadata": {},
   "outputs": [],
   "source": [
    "# function for expected revenue calculation\n",
    "def calculate_expected_revenue(df):\n",
    "    df['E_revenue'] = (df['Amount'] - df['Discount Amount']) * df['predict']\n",
    "    return sum(df['E_revenue'])"
   ]
  },
  {
   "cell_type": "markdown",
   "id": "d31726fa",
   "metadata": {},
   "source": [
    "> Expected revenue by product"
   ]
  },
  {
   "cell_type": "code",
   "execution_count": 25,
   "id": "fc6fb5a9",
   "metadata": {},
   "outputs": [
    {
     "data": {
      "text/plain": [
       "{'Direct - Cloud Product': <statsmodels.discrete.discrete_model.BinaryResultsWrapper at 0x127e73f70>,\n",
       " 'Partner - OnPremise Product': <statsmodels.discrete.discrete_model.BinaryResultsWrapper at 0x127e8b5b0>,\n",
       " 'Partner - Cloud Product': <statsmodels.discrete.discrete_model.BinaryResultsWrapper at 0x127ec3640>,\n",
       " 'Direct - OnPremise Product': <statsmodels.discrete.discrete_model.BinaryResultsWrapper at 0x127eb4820>}"
      ]
     },
     "execution_count": 25,
     "metadata": {},
     "output_type": "execute_result"
    }
   ],
   "source": [
    "model_dict"
   ]
  },
  {
   "cell_type": "code",
   "execution_count": 26,
   "id": "3b9b6ee8",
   "metadata": {},
   "outputs": [
    {
     "name": "stdout",
     "output_type": "stream",
     "text": [
      "Direct - Cloud Product\n",
      "Expected revenue :223119.96949779015\n",
      "----------------------------------------\n",
      "Partner - OnPremise Product\n",
      "Expected revenue :5623053.322640196\n",
      "----------------------------------------\n",
      "Partner - Cloud Product\n",
      "Expected revenue :1889995.1760500248\n",
      "----------------------------------------\n",
      "Direct - OnPremise Product\n",
      "Expected revenue :717953.0702098864\n",
      "----------------------------------------\n"
     ]
    }
   ],
   "source": [
    "ttl_revenue = 0\n",
    "\n",
    "for key in holdout_dict:\n",
    "    print(key)\n",
    "    temp_revenue = calculate_expected_revenue(holdout_dict[key])\n",
    "    print(f\"Expected revenue :{temp_revenue}\")\n",
    "    print(\"-\" * 40)\n",
    "    ttl_revenue += temp_revenue"
   ]
  },
  {
   "cell_type": "markdown",
   "id": "d9319eda",
   "metadata": {},
   "source": [
    "> Expected total revenue"
   ]
  },
  {
   "cell_type": "code",
   "execution_count": 27,
   "id": "37364360",
   "metadata": {},
   "outputs": [
    {
     "name": "stdout",
     "output_type": "stream",
     "text": [
      "Expected total revenue : 8454121.538397899\n"
     ]
    }
   ],
   "source": [
    "print(f'Expected total revenue : {ttl_revenue}')"
   ]
  },
  {
   "cell_type": "markdown",
   "id": "41312842",
   "metadata": {},
   "source": [
    ">Actual revenue"
   ]
  },
  {
   "cell_type": "code",
   "execution_count": 28,
   "id": "e2046fa0",
   "metadata": {},
   "outputs": [
    {
     "name": "stdout",
     "output_type": "stream",
     "text": [
      "Direct - Cloud Product\n",
      "Expected revenue :111600.0\n",
      "----------------------------------------\n",
      "Partner - OnPremise Product\n",
      "Expected revenue :4830101.0\n",
      "----------------------------------------\n",
      "Partner - Cloud Product\n",
      "Expected revenue :2148380.0\n",
      "----------------------------------------\n",
      "Direct - OnPremise Product\n",
      "Expected revenue :379737.0\n",
      "----------------------------------------\n"
     ]
    }
   ],
   "source": [
    "actual_revenue = 0\n",
    "\n",
    "for key in holdout_dict:\n",
    "    print(key)\n",
    "    temp_revenue = sum(holdout_dict[key]['Stage_dummy'] * (holdout_dict[key]['Amount'] - holdout_dict[key]['Discount Amount']))\n",
    "    print(f\"Expected revenue :{temp_revenue}\")\n",
    "    print(\"-\" * 40)\n",
    "    actual_revenue += temp_revenue"
   ]
  },
  {
   "cell_type": "code",
   "execution_count": 29,
   "id": "40387507",
   "metadata": {},
   "outputs": [
    {
     "name": "stdout",
     "output_type": "stream",
     "text": [
      "Actual total revenue : 7469818.0\n"
     ]
    }
   ],
   "source": [
    "print(f'Actual total revenue : {actual_revenue}')"
   ]
  },
  {
   "cell_type": "markdown",
   "id": "c312ae70",
   "metadata": {},
   "source": [
    ">Improvement"
   ]
  },
  {
   "cell_type": "code",
   "execution_count": 30,
   "id": "3ba6f5ea",
   "metadata": {},
   "outputs": [
    {
     "name": "stdout",
     "output_type": "stream",
     "text": [
      "Expected revenue improvement percentage : 13.18%\n"
     ]
    }
   ],
   "source": [
    "print(f\"Expected revenue improvement percentage : {round(100 * (ttl_revenue / actual_revenue - 1) , 2)}%\")"
   ]
  },
  {
   "cell_type": "markdown",
   "id": "3388cc19",
   "metadata": {},
   "source": [
    "## b. Expected revenue improvement over optimized discounts (based on your estimation results, optimize discounts offered to leads in the hold-out sample)."
   ]
  },
  {
   "cell_type": "markdown",
   "id": "05669769",
   "metadata": {},
   "source": [
    "### Defining linear optimization"
   ]
  },
  {
   "cell_type": "code",
   "execution_count": 31,
   "id": "792272ac",
   "metadata": {},
   "outputs": [],
   "source": [
    "def calculate_opt_discount(holdout , model):\n",
    "    # Define the logistic regression coefficients\n",
    "    coefs = list(model.params)\n",
    "\n",
    "    # Load your data into a DataFrame\n",
    "    df = holdout.drop('Stage_dummy' , axis = 1)  # Replace with your actual DataFrame\n",
    "\n",
    "    # Extract the relevant columns from the DataFrame\n",
    "    discounts = df['Discount Amount'].values\n",
    "    amounts = df['Amount'].values\n",
    "\n",
    "    # Define the objective function\n",
    "    def objective_function(discount_values):\n",
    "        total_objective = 0\n",
    "        log_likelihood = 1 / (1 + np.exp(-(coefs[0] * df['New Logo'] + coefs[1] * df['ACV'] +\n",
    "                                           coefs[2] * discount_values + coefs[3] * df['Amount'] +\n",
    "                                           coefs[4] * df['Quarter'] + coefs[5] * df['2 months in Q'] +\n",
    "                                           coefs[6] * df['3 months in Q'])))\n",
    "\n",
    "        total_objective = np.sum(log_likelihood * (amounts - discount_values))  \n",
    "        return -total_objective\n",
    "\n",
    "    # Set the initial guess for the discount values\n",
    "    initial_guess = np.zeros(len(df))\n",
    "\n",
    "    # Define the non-negativity constraints\n",
    "    bounds = [(0, None)] * len(df)\n",
    "\n",
    "    # Define the integer constraints\n",
    "    integer_constraint = LinearConstraint(np.eye(len(df)), 0, np.inf)\n",
    "\n",
    "    # Perform nonlinear optimization with non-negativity constraints\n",
    "    result = minimize(objective_function, initial_guess, constraints = integer_constraint , bounds=bounds)\n",
    "\n",
    "    # Access the optimized discount values\n",
    "    optimized_discounts = result.x\n",
    "    \n",
    "    # Combine df and optimal Discount\n",
    "    df['Optimal_discount'] = optimized_discounts\n",
    "    \n",
    "    return df"
   ]
  },
  {
   "cell_type": "code",
   "execution_count": 32,
   "id": "c0fa5ea5",
   "metadata": {},
   "outputs": [],
   "source": [
    "# create container for calculated optimal discount\n",
    "optimized_df_dict = {}\n",
    "\n",
    "# calculate optimal discount for each of the product\n",
    "for key in holdout_dict:\n",
    "    optimized_df_dict[key] = calculate_opt_discount(holdout_dict[key] , model_dict[key])"
   ]
  },
  {
   "cell_type": "code",
   "execution_count": 33,
   "id": "51a06426",
   "metadata": {
    "scrolled": true
   },
   "outputs": [
    {
     "name": "stdout",
     "output_type": "stream",
     "text": [
      "Direct - Cloud Product\n",
      "Expected optimal revenue :305831.064992652\n",
      "----------------------------------------\n",
      "Partner - OnPremise Product\n",
      "Expected optimal revenue :7324681.785123848\n",
      "----------------------------------------\n",
      "Partner - Cloud Product\n",
      "Expected optimal revenue :2292747.22973855\n",
      "----------------------------------------\n",
      "Direct - OnPremise Product\n",
      "Expected optimal revenue :788291.3307648757\n",
      "----------------------------------------\n"
     ]
    }
   ],
   "source": [
    "optimal_revenue = 0\n",
    "\n",
    "for key in optimized_df_dict:\n",
    "    print(key)\n",
    "    temp_revenue = sum(optimized_df_dict[key]['predict'] * (optimized_df_dict[key]['Amount'] - optimized_df_dict[key]['Optimal_discount']))\n",
    "    print(f\"Expected optimal revenue :{temp_revenue}\")\n",
    "    print(\"-\" * 40)\n",
    "    optimal_revenue += temp_revenue"
   ]
  },
  {
   "cell_type": "markdown",
   "id": "121bc332",
   "metadata": {},
   "source": [
    "> Expected total revenue"
   ]
  },
  {
   "cell_type": "code",
   "execution_count": 34,
   "id": "cd8143d2",
   "metadata": {},
   "outputs": [
    {
     "name": "stdout",
     "output_type": "stream",
     "text": [
      "Expected total optimal revenue : 10711551.410619926\n"
     ]
    }
   ],
   "source": [
    "print(f'Expected total optimal revenue : {optimal_revenue}')"
   ]
  },
  {
   "cell_type": "markdown",
   "id": "8a06a408",
   "metadata": {},
   "source": [
    ">Improvement"
   ]
  },
  {
   "cell_type": "code",
   "execution_count": 35,
   "id": "84cb73dc",
   "metadata": {},
   "outputs": [
    {
     "name": "stdout",
     "output_type": "stream",
     "text": [
      "Expected revenue improvement percentage : 43.4%\n"
     ]
    }
   ],
   "source": [
    "print(f\"Expected revenue improvement percentage : {round(100 * (optimal_revenue / actual_revenue - 1) , 2)}%\")"
   ]
  }
 ],
 "metadata": {
  "kernelspec": {
   "display_name": "Python 3 (ipykernel)",
   "language": "python",
   "name": "python3"
  },
  "language_info": {
   "codemirror_mode": {
    "name": "ipython",
    "version": 3
   },
   "file_extension": ".py",
   "mimetype": "text/x-python",
   "name": "python",
   "nbconvert_exporter": "python",
   "pygments_lexer": "ipython3",
   "version": "3.9.6"
  }
 },
 "nbformat": 4,
 "nbformat_minor": 5
}
